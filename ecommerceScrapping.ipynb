{
 "cells": [
  {
   "cell_type": "code",
   "execution_count": 1,
   "metadata": {},
   "outputs": [],
   "source": [
    "import requests\n",
    "import pandas as pd"
   ]
  },
  {
   "cell_type": "code",
   "execution_count": 3,
   "metadata": {},
   "outputs": [],
   "source": [
    "headers = {\n",
    "    'authority': 'www.asos.com',\n",
    "    'accept': 'application/json, text/plain, */*',\n",
    "    'accept-language': 'en-US,en;q=0.9',\n",
    "    'asos-c-name': '@asosteam/asos-web-product-listing-page',\n",
    "    'asos-c-plat': 'web',\n",
    "    'asos-c-ver': '1.2.0-550a0f103056-10298',\n",
    "    'asos-cid': 'd7f4aa92-ff43-45cc-a4c8-0d6ed79d4ca0',\n",
    "    # 'cookie': 'geocountry=KE; bm_sz=59649C58FD8DC478018C0BAA3DC733A9~YAAQLKERAh/Wpq2LAQAAxJwYrxUdGq8+caEr8JWHB082MMm/uR5+881KHNuEUPlGWZI1BprQmBQ/bUzBrLqeKZohw3hazytwQku2Hv3o4aLIrP+vsDD/VvlslsSExSpXuJr2pBzuy+Et/+lZGen7U85WJyplQloryjTfwU2tYrCe8Rtry1POgahG43mHcGcs56YwshzrIjk+sNUq1Op0nVpB3s9BzlY++f66IFvm3AmVOd/VUdrr+mMvA7bgonRP3x79HvFhRIwcPt3gz1KHqWXm7H8l0UkQZg1TuW74oM2+~4273975~3748166; siteChromeVersion=au=12&com=12&de=12&dk=12&es=12&fr=12&it=12&nl=12&pl=12&roe=12&row=12&ru=12&se=12&us=12; keyStoreDataversion=h7g0xmn-38; browseCountry=KE; AMCVS_C0137F6A52DEAFCC0A490D4C%40AdobeOrg=1; browseCurrency=GBP; browseLanguage=en-GB; browseSizeSchema=UK; storeCode=ROW; currency=1; floor=1001; featuresId=e5d21d2f-c455-4200-922c-841989042196; asos-b-sdv629=h7g0xmn-38; asos=PreferredSite=&currencyid=1&currencylabel=GBP&topcatid=1001&customerguid=fcbc5ad6037540658c46a4a0a27fed3a; asos-perx=fcbc5ad6037540658c46a4a0a27fed3a||a97cd2a722a14895b780fd9ddb0fbe2b; s_ecid=MCMID%7C53367503596636177883271801243238594101; AMCV_C0137F6A52DEAFCC0A490D4C%40AdobeOrg=-1303530583%7CMCMID%7C53367503596636177883271801243238594101%7CMCAAMLH-1700054518%7C6%7CMCAAMB-1700054518%7CRKhpRz8krg2tLO6pguXWp5olkAcUniQYPHaMWWgdJ3xzPWQmdj0y%7CMCCIDH%7C0%7CMCOPTOUT-1699456918s%7CNONE%7CvVersion%7C3.3.0%7CMCAID%7CNONE; _s_fpv=true; s_cc=true; _cs_mk_aa=0.1976029746087109_1699449756111; _gcl_au=1.1.1455848660.1699449770; bt_stdstatus=NOTSTUDENT; bt_utmSource=direct; _cs_c=0; _abck=A16C3D1DC3BC9494C3EEE69858E7B849~0~YAAQb6ERAn2M8qSLAQAAbewZrwqmmhpWKflf6C9ph9ZjPEQuNfsYJsCG9ZuUKpD5DekWusSPtLovHT8zTXPhJIADiLFZXi9msGhMTjxr/xYyGwX2bk67BGJ0U9uMRQ9hKsrlCTm/3NlAbvg9r/0xrAR79pX6fjMelyoAm4+XydxYfNIlcZGfOd+ARzOMrAEymUAT8i639TUq5rAdjRZe8jPC8ECHXdMdR03uRVOPkbESu+A645cLyFBC+oybIzivLMaPjkVxKCHEW5DDrEPDU/kX93xKoj8YYGLLl2KvAnxBy29yJpjArepQS+ySOiB/M7jVpFmaYePzXMdg9E5eBrVKLGnZpKFd+j5KkvHEJCA1uYW9GI+3B4QMQx3etAmDJU23jz7mFgY4kTvizpEOx3hOId7shw==~-1~-1~-1; _gid=GA1.2.632796507.1699449794; FPID=FPID2.2.St4LKTZxYxCtyG7f%2FwmBtl5TuZZxsgFtPIqhgstKMDg%3D.1699449794; FPLC=BVFyCMhChmISlhcVjCW6ngTJD%2BSAuCOkaW07tl5bqMhRupHVXcpbpQ5h4FAvzF0bCd%2BFgiAL9LlL5CgevjZBjuXQy7QiLfmHN3k3hVFFAXkhsF54xTgwBzZkWy25uw%3D%3D; FPAU=1.1.1455848660.1699449770; stc-welcome-message=cappedPageCount=2; bm_mi=91A596F92392DE07F362934DF0D3FE35~YAAQb6ERAq6T8qSLAQAALl8brxXTO3CWuYqp03sAEfpYxVZ3jP43TlC3UNwavuDm6LfF9EdhueLmG34YsaFyDEWTmHaUMnQ59A42B6/c37JlTpoh9oLVN2RjtYxn7+1kVjRpIYaTHFOBFZY9z6jC9fiSSBKT4krI0S1I1YXXG3cmqa1kvW5Y5L2NS33zodhg35oc5d3iPROQ/pJaTQuE8wxQ+4lmfrINf8W/QDXao4eIHPIREiIGY7Z0g1YtQxYsulw/QFkkOvSU63K6tIgvku+NIij0y9krMH5EUDld4iW5kPy7aEwcAZ3z23zvwU9hV/arwKNIwNsdEunDx/9/QiOxaqi3frE=~1; bm_sv=F12FD8FDAE58ECBF19CD555D4037EEA1~YAAQb6ERAq+T8qSLAQAALl8brxWxkAlg9eKPzC+hDw+1vHEalECi7eRZc9tf4WSixQufKzF9Q0TOYvu34mrjcc4rFaUXq6/oHP6eQWTTHPHb15EKS6B7kDarsZIdqPwHcZWUlWZvsK7Unpb1JWEPFbr9f8G3SE+Qh9ICOEmGF+NhVdFIsd988qg/P7fNMZ1RQBkVj7ZZtvsTlj9cUPmGEMx12PkBIYOLq01D+BaVTvUFgGVAkInwcmcbCcrsTg==~1; __gads=ID=d0fc0e13bf58f22f:T=1699450028:RT=1699450028:S=ALNI_MbasEwCzyTehB2ri3TaWPQ-wDrTJQ; __gpi=UID=00000cbc47b8ba9c:T=1699450028:RT=1699450028:S=ALNI_MZpekXRU1vy-P1253ynKj3dcY2lEA; plp_columsCount=twoColumns; ak_bmsc=C833FB706633D90866A023E64279BE60~000000000000000000000000000000~YAAQqVozuMv7SKmLAQAA5S4hrxW4k1pyvNapeMsAttIp2VAbU6yUvLuDgxVy6JY+KKrc4zhK1TwgZyBURCuKNdiWHahrp3KdPqghGBP6gxSQPC3ot3bhRho70x66Xu1MllzJCGsPikpCxpq7GrRK6++PHLJ74HdFHUGVg5tYiamkwNHnPWETdpI52ej5/m4IrW+nzTgcg/rOcx2TDLAGsMdHflic9DDw5qP6jc3N2vtIf10Z/d421X9ScXlpUA0pwrQCMhrCgZ+OoVnLKsokQocuyybsfFEZ8zmBhrA5SVOkmsoqSKgmoIAmPEmg+BGbRGs244j8DZ6UfJeCFl/XB754Cbgxcx7+FpfcViG5/0AYvhfnKHyX1hFe1zLnYZgUBTji3Qc7NG94FfLVd9nfB8W36w+ibtp/1aBF4dgJcrkoGmmOw7tyt99czQbiggwVe4OXPpm8cRq12mZoE9Pug4ri/Oetjt253Wcvu4Xp0Xt7y9+FwsXetnPlRJtiBq9aWSkmlhPXJp+uWVzekU2enTiLNKgosnGfFbO1xT0/uxliWC0GWvxEe5h9wYDVsxEypUjuZyTeTbDm; OptanonConsent=isGpcEnabled=0&datestamp=Wed+Nov+08+2023+16%3A31%3A14+GMT%2B0300+(East+Africa+Time)&version=202301.2.0&isIABGlobal=false&hosts=&landingPath=https%3A%2F%2Fwww.asos.com%2Fmen%2Fsale%2Fctas%2Fsale-edit-6%2Fcat%2F%3Fcid%3D28233&groups=C0001%3A1%2CC0003%3A1%2CC0004%3A1; _ga=GA1.1.1847759153.1699449794; s_pers=%20s_vnum%3D1701378000397%2526vn%253D1%7C1701378000397%3B%20gpv_p6%3D%2520%7C1699451535502%3B%20gpv_e231%3D05ba9127-8a16-48aa-8f43-5a54dc1579c0%7C1699452554808%3B%20s_nr%3D1699450754844-New%7C1730986754844%3B%20gpv_e47%3Dmen%257Csale%257Cctas%257Csale%253A%2520selling%2520fast%7C1699452554856%3B%20gpv_p10%3Dmobile%2520row%257Ccategory%2520page%257C3136%2520refined%7C1699452554875%3B%20eVar225%3D9%7C1699452555008%3B%20s_invisit%3Dtrue%7C1699452555017%3B%20visitCount%3D1%7C1699452555030%3B; FPGSID=1.1699449851.1699450754.G-H5HS29D9X2.j9MP8YikdfCh7g5ZOr221A; _cs_id=e6cf124c-2646-a43a-be44-f2388971b525.1699449771.1.1699450757.1699449771.1628755191.1733613771020; _cs_s=12.0.0.1699452557364; _ga_1JR0QCFRSY=GS1.1.1699449793.1.1.1699450766.0.0.0; RT=\"z=1&dm=asos.com&si=af0e4ea1-e259-48d8-8806-ea9ebf36273e&ss=lopsheuh&sl=c&tt=6asu&bcn=%2F%2F684dd328.akstat.io%2F&ld=mbb2&nu=32p8lewl&cl=mndf\"; s_sq=asoscomprod%3D%2526c.%2526a.%2526activitymap.%2526page%253Dmobile%252520row%25257Ccategory%252520page%25257C3136%252520refined%2526link%253DLOAD%252520MORE%2526region%253Dplp%2526pageIDType%253D1%2526.activitymap%2526.a%2526.c',\n",
    "    'referer': 'https://www.asos.com/men/sale/shirts/cat/?cid=3136&page=2',\n",
    "    'sec-fetch-dest': 'empty',\n",
    "    'sec-fetch-mode': 'cors',\n",
    "    'sec-fetch-site': 'same-origin',\n",
    "    'user-agent': 'Mozilla/5.0 (iPhone; CPU iPhone OS 13_2_3 like Mac OS X) AppleWebKit/605.1.15 (KHTML, like Gecko) Version/13.0.3 Mobile/15E148 Safari/604.1',\n",
    "}\n",
    "\n",
    "params = {\n",
    "    'offset': '0',\n",
    "    'store': 'ROW',\n",
    "    'lang': 'en-GB',\n",
    "    'currency': 'GBP',\n",
    "    'rowlength': '2',\n",
    "    'channel': 'mobile-web',\n",
    "    'country': 'KE',\n",
    "    'keyStoreDataversion': 'h7g0xmn-38',\n",
    "    'limit': '72',\n",
    "}\n",
    "\n",
    "response = requests.get(\n",
    "    'https://www.asos.com/api/product/search/v2/categories/3136',\n",
    "    params=params,\n",
    "    # cookies=cookies,\n",
    "    headers=headers,\n",
    ")"
   ]
  },
  {
   "cell_type": "code",
   "execution_count": 6,
   "metadata": {},
   "outputs": [],
   "source": [
    "results_json=response.json()"
   ]
  },
  {
   "cell_type": "code",
   "execution_count": 7,
   "metadata": {},
   "outputs": [
    {
     "data": {
      "text/plain": [
       "dict_keys(['searchTerm', 'categoryName', 'itemCount', 'redirectUrl', 'products', 'facets', 'diagnostics', 'searchPassMeta', 'queryId', 'discoverSearchProductTypes', 'campaigns'])"
      ]
     },
     "execution_count": 7,
     "metadata": {},
     "output_type": "execute_result"
    }
   ],
   "source": [
    "results_json.keys()"
   ]
  },
  {
   "cell_type": "code",
   "execution_count": 10,
   "metadata": {},
   "outputs": [],
   "source": [
    "result_items=results_json['products']"
   ]
  },
  {
   "cell_type": "code",
   "execution_count": 11,
   "metadata": {},
   "outputs": [
    {
     "data": {
      "text/plain": [
       "72"
      ]
     },
     "execution_count": 11,
     "metadata": {},
     "output_type": "execute_result"
    }
   ],
   "source": [
    "len(result_items)"
   ]
  },
  {
   "cell_type": "code",
   "execution_count": 13,
   "metadata": {},
   "outputs": [
    {
     "data": {
      "text/plain": [
       "'ASOS DESIGN boxy oversized revere shirt with double pockets in large geo print'"
      ]
     },
     "execution_count": 13,
     "metadata": {},
     "output_type": "execute_result"
    }
   ],
   "source": [
    "# name\n",
    "result_items[0]['name']"
   ]
  },
  {
   "cell_type": "code",
   "execution_count": 15,
   "metadata": {},
   "outputs": [
    {
     "data": {
      "text/plain": [
       "'ASOS DESIGN'"
      ]
     },
     "execution_count": 15,
     "metadata": {},
     "output_type": "execute_result"
    }
   ],
   "source": [
    "# brand\n",
    "result_items[0]['brandName']"
   ]
  },
  {
   "cell_type": "code",
   "execution_count": 19,
   "metadata": {},
   "outputs": [
    {
     "data": {
      "text/plain": [
       "'£9.00'"
      ]
     },
     "execution_count": 19,
     "metadata": {},
     "output_type": "execute_result"
    }
   ],
   "source": [
    "# current price\n",
    "result_items[0]['price']['current']['text']"
   ]
  },
  {
   "cell_type": "code",
   "execution_count": 20,
   "metadata": {},
   "outputs": [
    {
     "data": {
      "text/plain": [
       "'£30.00'"
      ]
     },
     "execution_count": 20,
     "metadata": {},
     "output_type": "execute_result"
    }
   ],
   "source": [
    "# previous price\n",
    "result_items[0]['price']['previous']['text']"
   ]
  }
 ],
 "metadata": {
  "kernelspec": {
   "display_name": "Python 3",
   "language": "python",
   "name": "python3"
  },
  "language_info": {
   "codemirror_mode": {
    "name": "ipython",
    "version": 3
   },
   "file_extension": ".py",
   "mimetype": "text/x-python",
   "name": "python",
   "nbconvert_exporter": "python",
   "pygments_lexer": "ipython3",
   "version": "3.10.5"
  }
 },
 "nbformat": 4,
 "nbformat_minor": 2
}
